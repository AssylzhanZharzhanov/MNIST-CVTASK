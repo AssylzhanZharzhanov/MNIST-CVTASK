{
  "nbformat": 4,
  "nbformat_minor": 0,
  "metadata": {
    "colab": {
      "name": "CVTask.ipynb",
      "version": "0.3.2",
      "provenance": []
    },
    "language_info": {
      "codemirror_mode": {
        "name": "ipython",
        "version": 3
      },
      "file_extension": ".py",
      "mimetype": "text/x-python",
      "name": "python",
      "nbconvert_exporter": "python",
      "pygments_lexer": "ipython3",
      "version": "3.6.5"
    },
    "kernelspec": {
      "name": "python3",
      "display_name": "Python 3"
    },
    "accelerator": "GPU"
  },
  "cells": [
    {
      "cell_type": "markdown",
      "metadata": {
        "id": "wzhe1XiUajCs",
        "colab_type": "text"
      },
      "source": [
        "### Computer Vision Internship Program\n"
      ]
    },
    {
      "cell_type": "markdown",
      "metadata": {
        "id": "JfvhEeYiajCu",
        "colab_type": "text"
      },
      "source": [
        "\n",
        "#### Practical Task description:\n",
        "Your task is to write to a pipeline to classify images from MNIST dataset\n",
        "(http://yann.lecun.com/exdb/mnist/)  using Neural Networks!\n",
        "\n"
      ]
    },
    {
      "cell_type": "markdown",
      "metadata": {
        "id": "kSYGhK3NajCw",
        "colab_type": "text"
      },
      "source": [
        "![alt text](mnist.png \"Title\")"
      ]
    },
    {
      "cell_type": "markdown",
      "metadata": {
        "id": "oUpvMYTWajCy",
        "colab_type": "text"
      },
      "source": [
        "\n",
        "##### To complete this task, you will have to implement the following steps:\n",
        "<br> 1. Download and read the data - 10 points\n",
        "<br> 2. Show how you use augmentation functions. To get the points, visualize the original image vs augmented image using 4 augmentation techniques of your choice - 10 points\n",
        "<br> 3. Implement a Neural Network which classifies given images. You can use any deep learning framework - 10 points\n",
        "<br> 4. Implement a training procedure using your dataloader, augmentation functions and neural network - 10 points\n",
        "<br> 5. Plot loss graph - 10 points\n",
        "<br> 6. Print accuracy of your model on test set -  10 points\n",
        "<br> 7. Show us how your model works! Plot a few input images and corresponding predictions of your model - 10 points\n",
        "<br> 8. Upload your work to github - 5 points. Google/dropbox/yandex drive - 0 points\n",
        "\n",
        "Max = 75 points!\n",
        "\n",
        "##### Main notes:\n",
        "<br> *- implement your work in provided jupyter notebook \n",
        "<br> - you can use any framework \n",
        "<br> - we are not too strict about the requirements: if your work corresponds to the task wording, the chances are you will get the full points*\n",
        "\n",
        "\n",
        "Please, upload to a google/dropbox/yandex drive or github  and send the link to the following google form: https://docs.google.com/forms/d/e/1FAIpQLSeeYILriugs1Vdxa3r01nS1469VT-_t_ZCNF18zwQVl-XKkHQ/viewform?usp=sf_link \n",
        "\n",
        "If you have any questions, please mail to:\n",
        "olzhas.kabdolov@btsdigital.kz and rustem.burkhanov@btsdigital.kz \n",
        "\n",
        "**The deadline is 27th of May, 12 o'Clock in the noon**\n",
        "\n",
        "\n",
        "####  Good luck and have fun!\n"
      ]
    },
    {
      "cell_type": "code",
      "metadata": {
        "id": "dKk-RO3bjE-6",
        "colab_type": "code",
        "outputId": "026cc0d2-ef63-4df5-92b0-324b6bca0599",
        "colab": {
          "base_uri": "https://localhost:8080/",
          "height": 717
        }
      },
      "source": [
        "!apt-get -qq install -y libsm6 libxext6 && pip install -q -U opencv-python\n",
        "!pip install -U -q PyDrive\n",
        "!pip install cmake\n",
        "!pip install dlib\n",
        "!pip install face_recognition\n",
        "!curl -O http://yann.lecun.com/exdb/mnist/train-images-idx3-ubyte.gz\n",
        "!curl -O http://yann.lecun.com/exdb/mnist/train-labels-idx1-ubyte.gz\n",
        "!curl -O http://yann.lecun.com/exdb/mnist/t10k-images-idx3-ubyte.gz\n",
        "!curl -O http://yann.lecun.com/exdb/mnist/t10k-labels-idx1-ubyte.gz\n",
        "!gunzip t*-ubyte.gz"
      ],
      "execution_count": 2,
      "outputs": [
        {
          "output_type": "stream",
          "text": [
            "\u001b[K     |████████████████████████████████| 26.6MB 1.6MB/s \n",
            "\u001b[31mERROR: albumentations 0.1.12 has requirement imgaug<0.2.7,>=0.2.5, but you'll have imgaug 0.2.9 which is incompatible.\u001b[0m\n",
            "\u001b[?25hCloning into 'Flowers'...\n",
            "remote: Enumerating objects: 4330, done.\u001b[K\n",
            "remote: Counting objects: 100% (4330/4330), done.\u001b[K\n",
            "remote: Compressing objects: 100% (4328/4328), done.\u001b[K\n",
            "remote: Total 4330 (delta 0), reused 4330 (delta 0), pack-reused 0\n",
            "Receiving objects: 100% (4330/4330), 224.05 MiB | 12.02 MiB/s, done.\n",
            "\u001b[K     |████████████████████████████████| 993kB 26.7MB/s \n",
            "\u001b[?25h  Building wheel for PyDrive (setup.py) ... \u001b[?25l\u001b[?25hdone\n",
            "Requirement already satisfied: cmake in /usr/local/lib/python3.6/dist-packages (3.12.0)\n",
            "Requirement already satisfied: dlib in /usr/local/lib/python3.6/dist-packages (19.16.0)\n",
            "Collecting face_recognition\n",
            "  Downloading https://files.pythonhosted.org/packages/3f/ed/ad9a28042f373d4633fc8b49109b623597d6f193d3bbbef7780a5ee8eef2/face_recognition-1.2.3-py2.py3-none-any.whl\n",
            "Requirement already satisfied: Click>=6.0 in /usr/local/lib/python3.6/dist-packages (from face_recognition) (7.0)\n",
            "Requirement already satisfied: numpy in /usr/local/lib/python3.6/dist-packages (from face_recognition) (1.16.3)\n",
            "Collecting face-recognition-models>=0.3.0 (from face_recognition)\n",
            "\u001b[?25l  Downloading https://files.pythonhosted.org/packages/cf/3b/4fd8c534f6c0d1b80ce0973d01331525538045084c73c153ee6df20224cf/face_recognition_models-0.3.0.tar.gz (100.1MB)\n",
            "\u001b[K     |████████████████████████████████| 100.2MB 1.2MB/s \n",
            "\u001b[?25hRequirement already satisfied: Pillow in /usr/local/lib/python3.6/dist-packages (from face_recognition) (4.3.0)\n",
            "Requirement already satisfied: dlib>=19.7 in /usr/local/lib/python3.6/dist-packages (from face_recognition) (19.16.0)\n",
            "Requirement already satisfied: olefile in /usr/local/lib/python3.6/dist-packages (from Pillow->face_recognition) (0.46)\n",
            "Building wheels for collected packages: face-recognition-models\n",
            "  Building wheel for face-recognition-models (setup.py) ... \u001b[?25l\u001b[?25hdone\n",
            "  Stored in directory: /root/.cache/pip/wheels/d2/99/18/59c6c8f01e39810415c0e63f5bede7d83dfb0ffc039865465f\n",
            "Successfully built face-recognition-models\n",
            "Installing collected packages: face-recognition-models, face-recognition\n",
            "Successfully installed face-recognition-1.2.3 face-recognition-models-0.3.0\n",
            "  % Total    % Received % Xferd  Average Speed   Time    Time     Time  Current\n",
            "                                 Dload  Upload   Total   Spent    Left  Speed\n",
            "100 9680k  100 9680k    0     0  3303k      0  0:00:02  0:00:02 --:--:-- 3302k\n",
            "  % Total    % Received % Xferd  Average Speed   Time    Time     Time  Current\n",
            "                                 Dload  Upload   Total   Spent    Left  Speed\n",
            "100 28881  100 28881    0     0  43041      0 --:--:-- --:--:-- --:--:-- 43041\n",
            "  % Total    % Received % Xferd  Average Speed   Time    Time     Time  Current\n",
            "                                 Dload  Upload   Total   Spent    Left  Speed\n",
            "100 1610k  100 1610k    0     0   795k      0  0:00:02  0:00:02 --:--:--  795k\n",
            "  % Total    % Received % Xferd  Average Speed   Time    Time     Time  Current\n",
            "                                 Dload  Upload   Total   Spent    Left  Speed\n",
            "100  4542  100  4542    0     0  10229      0 --:--:-- --:--:-- --:--:-- 10206\n"
          ],
          "name": "stdout"
        }
      ]
    },
    {
      "cell_type": "code",
      "metadata": {
        "id": "032XqPpp2ygO",
        "colab_type": "code",
        "outputId": "6a902f59-0513-4661-dd19-c57930617d06",
        "colab": {
          "base_uri": "https://localhost:8080/",
          "height": 357
        }
      },
      "source": [
        "!curl -O http://yann.lecun.com/exdb/mnist/train-images-idx3-ubyte.gz\n",
        "!curl -O http://yann.lecun.com/exdb/mnist/train-labels-idx1-ubyte.gz\n",
        "!curl -O http://yann.lecun.com/exdb/mnist/t10k-images-idx3-ubyte.gz\n",
        "!curl -O http://yann.lecun.com/exdb/mnist/t10k-labels-idx1-ubyte.gz\n",
        "!gunzip t*-ubyte.gz"
      ],
      "execution_count": 3,
      "outputs": [
        {
          "output_type": "stream",
          "text": [
            "  % Total    % Received % Xferd  Average Speed   Time    Time     Time  Current\n",
            "                                 Dload  Upload   Total   Spent    Left  Speed\n",
            "100 9680k  100 9680k    0     0  3583k      0  0:00:02  0:00:02 --:--:-- 3583k\n",
            "  % Total    % Received % Xferd  Average Speed   Time    Time     Time  Current\n",
            "                                 Dload  Upload   Total   Spent    Left  Speed\n",
            "100 28881  100 28881    0     0  43041      0 --:--:-- --:--:-- --:--:-- 42977\n",
            "  % Total    % Received % Xferd  Average Speed   Time    Time     Time  Current\n",
            "                                 Dload  Upload   Total   Spent    Left  Speed\n",
            "100 1610k  100 1610k    0     0   887k      0  0:00:01  0:00:01 --:--:--  887k\n",
            "  % Total    % Received % Xferd  Average Speed   Time    Time     Time  Current\n",
            "                                 Dload  Upload   Total   Spent    Left  Speed\n",
            "100  4542  100  4542    0     0  10229      0 --:--:-- --:--:-- --:--:-- 10229\n",
            "gzip: t10k-images-idx3-ubyte already exists; do you wish to overwrite (y or n)? n\n",
            "\tnot overwritten\n",
            "gzip: t10k-labels-idx1-ubyte already exists; do you wish to overwrite (y or n)? n\n",
            "\tnot overwritten\n",
            "gzip: train-images-idx3-ubyte already exists; do you wish to overwrite (y or n)? n\n",
            "\tnot overwritten\n",
            "gzip: train-labels-idx1-ubyte already exists; do you wish to overwrite (y or n)? n\n",
            "\tnot overwritten\n"
          ],
          "name": "stdout"
        }
      ]
    },
    {
      "cell_type": "code",
      "metadata": {
        "id": "1u9xg92mi4De",
        "colab_type": "code",
        "outputId": "9136674a-24bb-4971-ff74-0ecac07daee8",
        "colab": {
          "base_uri": "https://localhost:8080/",
          "height": 34
        }
      },
      "source": [
        "from __future__ import absolute_import, division, print_function, unicode_literals\n",
        "import cv2\n",
        "import tensorflow as tf\n",
        "import numpy\n",
        "import pandas as pd\n",
        "import math\n",
        "import numpy as np\n",
        "import matplotlib.pyplot as plt\n",
        "import os\n",
        "import glob\n",
        "import tqdm\n",
        "import tqdm.auto\n",
        "tqdm.tqdm = tqdm.auto.tqdm\n",
        "from sklearn import preprocessing\n",
        "from sklearn.model_selection import train_test_split\n",
        "import face_recognition\n",
        "from pydrive.auth import GoogleAuth\n",
        "from pydrive.drive import GoogleDrive \n",
        "from google.colab import auth \n",
        "from oauth2client.client import GoogleCredentials\n",
        "from mlxtend.data import loadlocal_mnist\n",
        "print(tf.__version__)\n",
        "from keras import backend as K\n",
        "import keras.preprocessing.image\n",
        "\n",
        "\n",
        "tf.enable_eager_execution()  \n"
      ],
      "execution_count": 24,
      "outputs": [
        {
          "output_type": "stream",
          "text": [
            "1.13.1\n"
          ],
          "name": "stdout"
        }
      ]
    },
    {
      "cell_type": "markdown",
      "metadata": {
        "id": "lYruPQRAajC0",
        "colab_type": "text"
      },
      "source": [
        "##### Task 1. Dataloader"
      ]
    },
    {
      "cell_type": "markdown",
      "metadata": {
        "id": "NhU6HuWO3RAv",
        "colab_type": "text"
      },
      "source": [
        ""
      ]
    },
    {
      "cell_type": "code",
      "metadata": {
        "id": "TF1usbwAajC1",
        "colab_type": "code",
        "colab": {}
      },
      "source": [
        "train, train_labels = loadlocal_mnist(\n",
        "        images_path='/content/train-images-idx3-ubyte', \n",
        "        labels_path='/content/train-labels-idx1-ubyte')\n",
        "test, test_labels = loadlocal_mnist(\n",
        "        images_path='/content/t10k-images-idx3-ubyte', \n",
        "        labels_path='/content/t10k-labels-idx1-ubyte')\n",
        "\n",
        "class_names = np.unique(train_labels)\n",
        "train = train.reshape(-1, 28, 28 , 1).astype('float32')\n",
        "test = test.reshape(-1, 28, 28 , 1).astype('float32')"
      ],
      "execution_count": 0,
      "outputs": []
    },
    {
      "cell_type": "markdown",
      "metadata": {
        "id": "Q1PF53huKRZU",
        "colab_type": "text"
      },
      "source": [
        ""
      ]
    },
    {
      "cell_type": "code",
      "metadata": {
        "id": "JmnowGxq5Jtv",
        "colab_type": "code",
        "outputId": "6fee882c-a7e3-4c50-e273-6c6e04f3b407",
        "colab": {
          "base_uri": "https://localhost:8080/",
          "height": 51
        }
      },
      "source": [
        "print('Train Dimensions: %s x %s' % (train.shape[0], train.shape[1]))\n",
        "print('Test Dimensions: %s x %s' % (test.shape[0], test.shape[1]))\n"
      ],
      "execution_count": 26,
      "outputs": [
        {
          "output_type": "stream",
          "text": [
            "Train Dimensions: 60000 x 28\n",
            "Test Dimensions: 10000 x 28\n"
          ],
          "name": "stdout"
        }
      ]
    },
    {
      "cell_type": "code",
      "metadata": {
        "id": "gfKih7wPi2Xx",
        "colab_type": "code",
        "colab": {}
      },
      "source": [
        "num_train = train.shape[0]\n",
        "num_test = test.shape[0]"
      ],
      "execution_count": 0,
      "outputs": []
    },
    {
      "cell_type": "code",
      "metadata": {
        "id": "quG8Z6JRKGHc",
        "colab_type": "code",
        "colab": {}
      },
      "source": [
        "def normalize(images, labels):\n",
        "  images = tf.cast(images, tf.float32)\n",
        "  images /= 255\n",
        "  return images, labels\n"
      ],
      "execution_count": 0,
      "outputs": []
    },
    {
      "cell_type": "markdown",
      "metadata": {
        "id": "FfivkafkajC8",
        "colab_type": "text"
      },
      "source": [
        "##### Task 2. Augmentation"
      ]
    },
    {
      "cell_type": "code",
      "metadata": {
        "id": "5kHR0Mw0ajC-",
        "colab_type": "code",
        "colab": {
          "base_uri": "https://localhost:8080/",
          "height": 298
        },
        "outputId": "8029e16a-4fa0-4425-abf5-a1356c95cfe6"
      },
      "source": [
        "image = train[0].reshape(28,28)\n",
        "plt.figure()\n",
        "plt.imshow(image, cmap=plt.cm.binary)\n",
        "plt.title('Label: '+ str(train_labels[0]))"
      ],
      "execution_count": 29,
      "outputs": [
        {
          "output_type": "execute_result",
          "data": {
            "text/plain": [
              "Text(0.5, 1.0, 'Label: 5')"
            ]
          },
          "metadata": {
            "tags": []
          },
          "execution_count": 29
        },
        {
          "output_type": "display_data",
          "data": {
            "image/png": "[encoded data removed]",
            "text/plain": [
              "<Figure size 432x288 with 1 Axes>"
            ]
          },
          "metadata": {
            "tags": []
          }
        }
      ]
    },
    {
      "cell_type": "code",
      "metadata": {
        "id": "aRmaCBk0Upr8",
        "colab_type": "code",
        "colab": {
          "base_uri": "https://localhost:8080/",
          "height": 527
        },
        "outputId": "20563594-f910-4d8b-85c2-c24f94d0f8e7"
      },
      "source": [
        "def generate_images(imgs, label):\n",
        "    \n",
        "    image_generator = keras.preprocessing.image.ImageDataGenerator(\n",
        "        rotation_range = 10, width_shift_range = 0.1 , height_shift_range = 0.1,\n",
        "        zoom_range = 0.1)\n",
        "\n",
        "    imgs = image_generator.flow(imgs.copy(), np.zeros(len(imgs)),\n",
        "                                batch_size=len(imgs), shuffle = False).next()    \n",
        "    \n",
        "    return imgs[0]\n",
        "\n",
        "fig,axs = plt.subplots(5,10, figsize=(15,9))\n",
        "for i in range(5):\n",
        "    n = np.random.randint(0,train.shape[0]-2)\n",
        "    axs[i,0].imshow(train[n:n+1].reshape(28,28),cmap=plt.cm.binary)\n",
        "    for j in range(1,10):\n",
        "      axs[i,j].imshow(generate_images(train[n:n+1], train_labels[n]).reshape(28,28), cmap=plt.cm.binary)"
      ],
      "execution_count": 30,
      "outputs": [
        {
          "output_type": "display_data",
          "data": {
            "image/png": "[encoded data removed]",
            "text/plain": [
              "<Figure size 1080x648 with 50 Axes>"
            ]
          },
          "metadata": {
            "tags": []
          }
        }
      ]
    },
    {
      "cell_type": "code",
      "metadata": {
        "id": "3dDh2mexvrqC",
        "colab_type": "code",
        "colab": {
          "base_uri": "https://localhost:8080/",
          "height": 51
        },
        "outputId": "1e1fbdaf-3da4-43c3-b112-2f63464de6ad"
      },
      "source": [
        "image_generator = keras.preprocessing.image.ImageDataGenerator(\n",
        "      rotation_range = 10, width_shift_range = 0.1 , height_shift_range = 0.1,\n",
        "      zoom_range = 0.1)\n",
        "print(train.shape[0])\n",
        "image_generator.fit(train)\n",
        "imgs = image_generator.flow(train,train_labels, batch_size=64).next()\n",
        "print(train.shape[0])\n"
      ],
      "execution_count": 31,
      "outputs": [
        {
          "output_type": "stream",
          "text": [
            "60000\n",
            "60000\n"
          ],
          "name": "stdout"
        }
      ]
    },
    {
      "cell_type": "code",
      "metadata": {
        "id": "B9Os8b24zLJR",
        "colab_type": "code",
        "colab": {}
      },
      "source": [
        "train = np.append(train, imgs[0], axis=0)\n",
        "train_labels = np.append(train_labels, imgs[1])"
      ],
      "execution_count": 0,
      "outputs": []
    },
    {
      "cell_type": "code",
      "metadata": {
        "id": "XpXsJ3A8UqqE",
        "colab_type": "code",
        "colab": {}
      },
      "source": [
        "train_data = tf.data.Dataset.from_tensor_slices((tf.constant(train), tf.constant(train_labels))).map(normalize)\n",
        "test_data = tf.data.Dataset.from_tensor_slices((tf.constant(test), tf.constant(test_labels))).map(normalize)"
      ],
      "execution_count": 0,
      "outputs": []
    },
    {
      "cell_type": "markdown",
      "metadata": {
        "id": "aW-Z4I24ajDD",
        "colab_type": "text"
      },
      "source": [
        "##### Task 3. Neural Network"
      ]
    },
    {
      "cell_type": "code",
      "metadata": {
        "id": "L4JWlIxGajDF",
        "colab_type": "code",
        "colab": {
          "base_uri": "https://localhost:8080/",
          "height": 139
        },
        "outputId": "b130ef04-f39d-4d1b-c6e7-e2d68601a9ab"
      },
      "source": [
        "model = tf.keras.Sequential([\n",
        "    tf.keras.layers.Conv2D(32, (5,5), padding='same', activation=tf.nn.relu,\n",
        "                           input_shape=(28, 28, 1)),\n",
        "    tf.keras.layers.MaxPooling2D((2, 2), strides=1),\n",
        "    tf.keras.layers.Conv2D(32, (5,5), padding='same', activation=tf.nn.relu),\n",
        "    tf.keras.layers.MaxPooling2D((2, 2), strides=1),\n",
        "    tf.keras.layers.Dropout(0.25),\n",
        "    tf.keras.layers.Conv2D(64, (3,3), padding='same', activation=tf.nn.relu),\n",
        "    tf.keras.layers.MaxPooling2D((2, 2), strides=2),\n",
        "    tf.keras.layers.Conv2D(64, (3,3), padding='same', activation=tf.nn.relu),\n",
        "    tf.keras.layers.MaxPooling2D((2, 2), strides=2),\n",
        "    tf.keras.layers.Dropout(0.25),\n",
        "    tf.keras.layers.Flatten(),\n",
        "    tf.keras.layers.Dense(256, activation=tf.nn.relu),\n",
        "    tf.keras.layers.Dropout(0.5),\n",
        "    tf.keras.layers.Dense(10,  activation=tf.nn.softmax)\n",
        "])\n",
        "\n",
        "model.compile(optimizer=tf.keras.optimizers.Adam(lr=0.0001), loss ='sparse_categorical_crossentropy', metrics=['accuracy'])"
      ],
      "execution_count": 43,
      "outputs": [
        {
          "output_type": "stream",
          "text": [
            "WARNING:tensorflow:From /usr/local/lib/python3.6/dist-packages/tensorflow/python/ops/resource_variable_ops.py:642: colocate_with (from tensorflow.python.framework.ops) is deprecated and will be removed in a future version.\n",
            "Instructions for updating:\n",
            "Colocations handled automatically by placer.\n",
            "WARNING:tensorflow:From /usr/local/lib/python3.6/dist-packages/tensorflow/python/keras/layers/core.py:143: calling dropout (from tensorflow.python.ops.nn_ops) with keep_prob is deprecated and will be removed in a future version.\n",
            "Instructions for updating:\n",
            "Please use `rate` instead of `keep_prob`. Rate should be set to `rate = 1 - keep_prob`.\n"
          ],
          "name": "stdout"
        }
      ]
    },
    {
      "cell_type": "markdown",
      "metadata": {
        "id": "Hs-D48ZxajDL",
        "colab_type": "text"
      },
      "source": [
        "##### Task 4. Train loop"
      ]
    },
    {
      "cell_type": "code",
      "metadata": {
        "id": "J19-wv27ajDN",
        "colab_type": "code",
        "colab": {
          "base_uri": "https://localhost:8080/",
          "height": 1037
        },
        "outputId": "46ea37fa-5279-428d-d74a-2037c3905f5f"
      },
      "source": [
        "BATCH_SIZE = 64\n",
        "train_data = train_data.repeat().shuffle(num_train).batch(BATCH_SIZE)\n",
        "test_data = test_data.batch(BATCH_SIZE)\n",
        "\n",
        "history = model.fit(train_data.repeat(), epochs = 20, steps_per_epoch=math.ceil(num_train/BATCH_SIZE), validation_data=test_data.repeat(), validation_steps=20)"
      ],
      "execution_count": 44,
      "outputs": [
        {
          "output_type": "stream",
          "text": [
            "Epoch 1/20\n",
            "20/20 [==============================] - 0s 10ms/step - loss: 0.0999 - acc: 0.9688\n",
            "938/938 [==============================] - 20s 22ms/step - loss: 0.4403 - acc: 0.8601 - val_loss: 0.0999 - val_acc: 0.9688\n",
            "Epoch 2/20\n",
            "20/20 [==============================] - 0s 7ms/step - loss: 0.0677 - acc: 0.9758\n",
            "938/938 [==============================] - 14s 15ms/step - loss: 0.1230 - acc: 0.9622 - val_loss: 0.0677 - val_acc: 0.9758\n",
            "Epoch 3/20\n",
            "20/20 [==============================] - 0s 6ms/step - loss: 0.0514 - acc: 0.9836\n",
            "938/938 [==============================] - 13s 14ms/step - loss: 0.0891 - acc: 0.9726 - val_loss: 0.0514 - val_acc: 0.9836\n",
            "Epoch 4/20\n",
            "20/20 [==============================] - 0s 6ms/step - loss: 0.0416 - acc: 0.9852\n",
            "938/938 [==============================] - 13s 14ms/step - loss: 0.0725 - acc: 0.9781 - val_loss: 0.0416 - val_acc: 0.9852\n",
            "Epoch 5/20\n",
            "20/20 [==============================] - 0s 8ms/step - loss: 0.0382 - acc: 0.9859\n",
            "938/938 [==============================] - 13s 14ms/step - loss: 0.0624 - acc: 0.9803 - val_loss: 0.0382 - val_acc: 0.9859\n",
            "Epoch 6/20\n",
            "20/20 [==============================] - 0s 6ms/step - loss: 0.0343 - acc: 0.9852\n",
            "938/938 [==============================] - 14s 15ms/step - loss: 0.0530 - acc: 0.9834 - val_loss: 0.0343 - val_acc: 0.9852\n",
            "Epoch 7/20\n",
            "20/20 [==============================] - 0s 7ms/step - loss: 0.0281 - acc: 0.9898\n",
            "938/938 [==============================] - 13s 14ms/step - loss: 0.0490 - acc: 0.9849 - val_loss: 0.0281 - val_acc: 0.9898\n",
            "Epoch 8/20\n",
            "20/20 [==============================] - 0s 7ms/step - loss: 0.0286 - acc: 0.9883\n",
            "938/938 [==============================] - 14s 15ms/step - loss: 0.0437 - acc: 0.9866 - val_loss: 0.0286 - val_acc: 0.9883\n",
            "Epoch 9/20\n",
            "20/20 [==============================] - 0s 6ms/step - loss: 0.0242 - acc: 0.9930\n",
            "938/938 [==============================] - 13s 14ms/step - loss: 0.0408 - acc: 0.9883 - val_loss: 0.0242 - val_acc: 0.9930\n",
            "Epoch 10/20\n",
            "20/20 [==============================] - 0s 6ms/step - loss: 0.0249 - acc: 0.9906\n",
            "938/938 [==============================] - 13s 14ms/step - loss: 0.0354 - acc: 0.9889 - val_loss: 0.0249 - val_acc: 0.9906\n",
            "Epoch 11/20\n",
            "20/20 [==============================] - 0s 6ms/step - loss: 0.0213 - acc: 0.9930\n",
            "938/938 [==============================] - 13s 14ms/step - loss: 0.0333 - acc: 0.9892 - val_loss: 0.0213 - val_acc: 0.9930\n",
            "Epoch 12/20\n",
            "20/20 [==============================] - 0s 6ms/step - loss: 0.0223 - acc: 0.9891\n",
            "938/938 [==============================] - 13s 14ms/step - loss: 0.0310 - acc: 0.9907 - val_loss: 0.0223 - val_acc: 0.9891\n",
            "Epoch 13/20\n",
            "20/20 [==============================] - 0s 6ms/step - loss: 0.0248 - acc: 0.9906\n",
            "938/938 [==============================] - 13s 14ms/step - loss: 0.0286 - acc: 0.9909 - val_loss: 0.0248 - val_acc: 0.9906\n",
            "Epoch 14/20\n",
            "20/20 [==============================] - 0s 7ms/step - loss: 0.0200 - acc: 0.9937\n",
            "938/938 [==============================] - 14s 15ms/step - loss: 0.0275 - acc: 0.9914 - val_loss: 0.0200 - val_acc: 0.9937\n",
            "Epoch 15/20\n",
            "20/20 [==============================] - 0s 6ms/step - loss: 0.0214 - acc: 0.9922\n",
            "938/938 [==============================] - 13s 14ms/step - loss: 0.0257 - acc: 0.9919 - val_loss: 0.0214 - val_acc: 0.9922\n",
            "Epoch 16/20\n",
            "20/20 [==============================] - 0s 7ms/step - loss: 0.0218 - acc: 0.9898\n",
            "938/938 [==============================] - 13s 14ms/step - loss: 0.0224 - acc: 0.9929 - val_loss: 0.0218 - val_acc: 0.9898\n",
            "Epoch 17/20\n",
            "20/20 [==============================] - 0s 6ms/step - loss: 0.0183 - acc: 0.9922\n",
            "938/938 [==============================] - 13s 14ms/step - loss: 0.0227 - acc: 0.9927 - val_loss: 0.0183 - val_acc: 0.9922\n",
            "Epoch 18/20\n",
            "20/20 [==============================] - 0s 6ms/step - loss: 0.0201 - acc: 0.9930\n",
            "938/938 [==============================] - 13s 14ms/step - loss: 0.0209 - acc: 0.9935 - val_loss: 0.0201 - val_acc: 0.9930\n",
            "Epoch 19/20\n",
            "20/20 [==============================] - 0s 6ms/step - loss: 0.0211 - acc: 0.9906\n",
            "938/938 [==============================] - 13s 14ms/step - loss: 0.0194 - acc: 0.9938 - val_loss: 0.0211 - val_acc: 0.9906\n",
            "Epoch 20/20\n",
            "20/20 [==============================] - 0s 6ms/step - loss: 0.0199 - acc: 0.9922\n",
            "938/938 [==============================] - 14s 15ms/step - loss: 0.0196 - acc: 0.9937 - val_loss: 0.0199 - val_acc: 0.9922\n"
          ],
          "name": "stdout"
        }
      ]
    },
    {
      "cell_type": "markdown",
      "metadata": {
        "id": "gIuiYwlDajDS",
        "colab_type": "text"
      },
      "source": [
        "##### Task 5. Loss plot"
      ]
    },
    {
      "cell_type": "code",
      "metadata": {
        "id": "3TPCYZpNajDV",
        "colab_type": "code",
        "colab": {
          "base_uri": "https://localhost:8080/",
          "height": 439
        },
        "outputId": "00ba3def-2875-4fae-a302-3ccd27d95874"
      },
      "source": [
        "acc = history.history['acc']\n",
        "val_acc = history.history['val_acc']\n",
        "\n",
        "loss = history.history['loss']\n",
        "val_loss = history.history['val_loss']\n",
        "\n",
        "plt.subplot(2, 1, 2)\n",
        "plt.plot(loss, label='Training Loss')\n",
        "plt.plot(val_loss, label='Validation Loss')\n",
        "plt.legend(loc='upper right')\n",
        "plt.ylabel('Cross Entropy')\n",
        "plt.title('Training and Validation Loss')\n",
        "plt.xlabel('epoch')\n",
        "plt.show()\n",
        "\n",
        "plt.figure(figsize=(8, 8))\n",
        "plt.subplot(2, 1, 1)\n",
        "plt.plot(acc, label='Training Accuracy')\n",
        "plt.plot(val_acc, label='Validation Accuracy')\n",
        "plt.legend(loc='lower right')\n",
        "plt.ylabel('Accuracy')\n",
        "plt.title('Training and Validation Accuracy')"
      ],
      "execution_count": 45,
      "outputs": [
        {
          "output_type": "display_data",
          "data": {
            "image/png": "[encoded data removed]",
            "text/plain": [
              "<Figure size 432x288 with 1 Axes>"
            ]
          },
          "metadata": {
            "tags": []
          }
        },
        {
          "output_type": "execute_result",
          "data": {
            "text/plain": [
              "Text(0.5, 1.0, 'Training and Validation Accuracy')"
            ]
          },
          "metadata": {
            "tags": []
          },
          "execution_count": 45
        },
        {
          "output_type": "display_data",
          "data": {
            "image/png": "[encoded data removed]",
            "text/plain": [
              "<Figure size 576x576 with 1 Axes>"
            ]
          },
          "metadata": {
            "tags": []
          }
        }
      ]
    },
    {
      "cell_type": "markdown",
      "metadata": {
        "id": "FZUr9ybzajDb",
        "colab_type": "text"
      },
      "source": [
        "##### Task 6. Test set accuracy"
      ]
    },
    {
      "cell_type": "code",
      "metadata": {
        "id": "g8VjeBlzajDd",
        "colab_type": "code",
        "colab": {
          "base_uri": "https://localhost:8080/",
          "height": 51
        },
        "outputId": "b6d8eee5-af60-4eac-e954-5d2fc6ab0b26"
      },
      "source": [
        "test_loss, test_accuracy = model.evaluate(test_data, steps=math.ceil(num_test/64))\n",
        "print('Accuracy on test dataset:', test_accuracy)"
      ],
      "execution_count": 46,
      "outputs": [
        {
          "output_type": "stream",
          "text": [
            "157/157 [==============================] - 1s 6ms/step - loss: 0.0164 - acc: 0.9944\n",
            "Accuracy on test dataset: 0.9944\n"
          ],
          "name": "stdout"
        }
      ]
    },
    {
      "cell_type": "markdown",
      "metadata": {
        "id": "CJ_IkCDVajDl",
        "colab_type": "text"
      },
      "source": [
        "##### Task 7. Inference"
      ]
    },
    {
      "cell_type": "code",
      "metadata": {
        "id": "hBCt0EVgajDn",
        "colab_type": "code",
        "colab": {}
      },
      "source": [
        "def plot_image(i, predictions_array, true_labels, images):\n",
        "  predictions_array, true_label, img = predictions_array[i], true_labels[i], images[i]\n",
        "  plt.grid(False)\n",
        "  plt.xticks([])\n",
        "  plt.yticks([])\n",
        "  \n",
        "  plt.imshow(img[...,0], cmap=plt.cm.binary)\n",
        "\n",
        "  predicted_label = np.argmax(predictions_array)\n",
        "  if predicted_label == true_label:\n",
        "    color = 'blue'\n",
        "  else:\n",
        "    color = 'red'\n",
        "  \n",
        "  plt.xlabel(\"{} {:2.0f}% ({})\".format(class_names[predicted_label],\n",
        "                                100*np.max(predictions_array),\n",
        "                                class_names[true_label]),\n",
        "                                color=color)\n",
        "def plot_value_array(i, predictions_array, true_label):\n",
        "  predictions_array, true_label = predictions_array[i], true_label[i]\n",
        "  plt.grid(False)\n",
        "  plt.xticks([])\n",
        "  plt.yticks([])\n",
        "  thisplot = plt.bar(range(10), predictions_array, color=\"#777777\")\n",
        "  plt.ylim([0, 1]) \n",
        "  predicted_label = np.argmax(predictions_array)\n",
        " \n",
        "  thisplot[predicted_label].set_color('red')\n",
        "  thisplot[true_label].set_color('blue')\n"
      ],
      "execution_count": 0,
      "outputs": []
    },
    {
      "cell_type": "code",
      "metadata": {
        "id": "RTqkO8VSoSw_",
        "colab_type": "code",
        "colab": {
          "base_uri": "https://localhost:8080/",
          "height": 592
        },
        "outputId": "18f10eff-9692-42be-a7e5-9a97658fc030"
      },
      "source": [
        "for test_image, test_label in test_data.take(1):\n",
        "  test_image = test_image.numpy()\n",
        "  test_label = test_label.numpy()\n",
        "  predictions = model.predict(test_image)\n",
        "\n",
        "num_rows = 5\n",
        "num_cols = 3\n",
        "num_images = num_rows*num_cols\n",
        "plt.figure(figsize=(2*2*num_cols, 2*num_rows))\n",
        "for i in range(num_images):\n",
        "  plt.subplot(num_rows, 2*num_cols, 2*i+1)\n",
        "  plot_image(i, predictions, test_label, test_image)\n",
        "  plt.subplot(num_rows, 2*num_cols, 2*i+2)\n",
        "  plot_value_array(i, predictions, test_label)"
      ],
      "execution_count": 50,
      "outputs": [
        {
          "output_type": "display_data",
          "data": {
            "image/png": "[encoded data removed]",
            "text/plain": [
              "<Figure size 864x720 with 30 Axes>"
            ]
          },
          "metadata": {
            "tags": []
          }
        }
      ]
    },
    {
      "cell_type": "code",
      "metadata": {
        "id": "rQR66ADEtVDU",
        "colab_type": "code",
        "colab": {}
      },
      "source": [
        ""
      ],
      "execution_count": 0,
      "outputs": []
    }
  ]
}